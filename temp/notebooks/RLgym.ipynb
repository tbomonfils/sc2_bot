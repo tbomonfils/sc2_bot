{
 "cells": [
  {
   "cell_type": "code",
   "execution_count": 4,
   "metadata": {},
   "outputs": [],
   "source": [
    "import itertools"
   ]
  },
  {
   "cell_type": "code",
   "execution_count": 3,
   "metadata": {},
   "outputs": [
    {
     "name": "stderr",
     "output_type": "stream",
     "text": [
      "Using TensorFlow backend.\n",
      "WARNING (theano.tensor.blas): Using NumPy C-API based implementation for BLAS functions.\n"
     ]
    }
   ],
   "source": [
    "import numpy as np\n",
    "import tensorflow as tf\n",
    "import keras as k\n",
    "import theano as th\n",
    "import gym"
   ]
  },
  {
   "cell_type": "code",
   "execution_count": 4,
   "metadata": {},
   "outputs": [],
   "source": [
    "from IPython import display\n",
    "import matplotlib.pyplot as plt\n",
    "%matplotlib inline"
   ]
  },
  {
   "cell_type": "code",
   "execution_count": 7,
   "metadata": {},
   "outputs": [],
   "source": [
    "env = gym.make('CartPole-v0')"
   ]
  },
  {
   "cell_type": "markdown",
   "metadata": {},
   "source": [
    "# Random model search"
   ]
  },
  {
   "cell_type": "code",
   "execution_count": 4,
   "metadata": {},
   "outputs": [
    {
     "name": "stdout",
     "output_type": "stream",
     "text": [
      "[-1.15119496  0.58573944  0.73130289 -0.28085152] 10.0\n",
      "[-1.98039047 -0.61032615  1.79320846  0.83351369] 70.0\n",
      "[ 0.15765545 -1.26804802 -0.99818049  2.41966705] 104.0\n",
      "[-1.00149121 -0.53527773  1.26530749  1.04247018] 145.0\n",
      "[-0.22410222  0.10800922 -0.44457193  0.97412923] 200.0\n"
     ]
    }
   ],
   "source": [
    "s = env.reset()\n",
    "\n",
    "best_model = np.zeros(4)\n",
    "best_result = 0\n",
    "\n",
    "for i in range(1000):\n",
    "    s = env.reset()\n",
    "    done = False\n",
    "    model = np.random.randn(4)\n",
    "    model_result = 0\n",
    "\n",
    "    while not done:\n",
    "        a = int(0<model.dot(s))\n",
    "        s, r, done, _ = env.step(a)\n",
    "        model_result += r\n",
    "        \n",
    "    if best_result < model_result:\n",
    "        best_result = model_result\n",
    "        best_model = model.copy()\n",
    "        print(best_model, best_result)"
   ]
  },
  {
   "cell_type": "code",
   "execution_count": 5,
   "metadata": {},
   "outputs": [
    {
     "data": {
      "text/plain": [
       "array([-0.22410222,  0.10800922, -0.44457193,  0.97412923])"
      ]
     },
     "execution_count": 5,
     "metadata": {},
     "output_type": "execute_result"
    }
   ],
   "source": [
    "best_model"
   ]
  },
  {
   "cell_type": "markdown",
   "metadata": {},
   "source": [
    "## Displaying episode"
   ]
  },
  {
   "cell_type": "code",
   "execution_count": 6,
   "metadata": {},
   "outputs": [
    {
     "data": {
      "image/png": "[encoded data removed]",
      "text/plain": [
       "<Figure size 432x288 with 1 Axes>"
      ]
     },
     "metadata": {
      "needs_background": "light"
     },
     "output_type": "display_data"
    }
   ],
   "source": [
    "s = env.reset()\n",
    "done = False\n",
    "img = plt.imshow(env.render(mode='rgb_array')) # only call this once\n",
    "while not done:\n",
    "    img.set_data(env.render(mode='rgb_array')) # just update the data\n",
    "    display.display(plt.gcf())\n",
    "    display.clear_output(wait=True)\n",
    "    action = int(0<best_model.dot(s))\n",
    "    s, r, done, _ = env.step(action)"
   ]
  },
  {
   "cell_type": "markdown",
   "metadata": {},
   "source": [
    "## Video recording"
   ]
  },
  {
   "cell_type": "code",
   "execution_count": 25,
   "metadata": {},
   "outputs": [
    {
     "name": "stdout",
     "output_type": "stream",
     "text": [
      "-200.0\n"
     ]
    }
   ],
   "source": [
    "from gym import wrappers\n",
    "env_video = wrappers.Monitor(env, 'video_test_mountaincar')\n",
    "s = env_video.reset()\n",
    "done = False\n",
    "play_result = 0\n",
    "\n",
    "while not done:\n",
    "    action, Qsa = m.predict(s)\n",
    "    s, r, done, _ = env_video.step(action)\n",
    "    play_result += r\n",
    "    \n",
    "print(play_result)"
   ]
  },
  {
   "cell_type": "markdown",
   "metadata": {},
   "source": [
    "# Q_learning bins"
   ]
  },
  {
   "cell_type": "markdown",
   "metadata": {},
   "source": [
    "## Generating states to detemrine extreme values for keys"
   ]
  },
  {
   "cell_type": "code",
   "execution_count": 8,
   "metadata": {},
   "outputs": [],
   "source": [
    "def run_random_simulations(env, nb_it=100):\n",
    "    states = env.reset()\n",
    "    states = states.reshape((4, 1))\n",
    "    \n",
    "    for i in range(nb_it):\n",
    "        s = env.reset()\n",
    "        done = False\n",
    "        model = np.random.randn(4)\n",
    "        model_result = 0\n",
    "\n",
    "        while not done:\n",
    "            a = int(0<model.dot(s))\n",
    "            s, r, done, _ = env.step(a)\n",
    "            s = s.reshape((4, 1))\n",
    "            \n",
    "            states = np.concatenate([states, s], axis=1)\n",
    "\n",
    "    return states"
   ]
  },
  {
   "cell_type": "code",
   "execution_count": 9,
   "metadata": {},
   "outputs": [],
   "source": [
    "def generate_uniformely_distributed_intervals(state_list, nb_interval=10, hardcoded=True):\n",
    "    \n",
    "    nb_var = state_list.shape[0]\n",
    "    \n",
    "    if not hardcoded:\n",
    "        dimensions_step = np.array((np.amax(state_list, axis=1)-np.amin(state_list, axis=1))/nb_interval)\n",
    "        intervals = np.amin(state_list, axis=1)\n",
    "        next_interval = np.amin(state_list, axis=1)\n",
    "    else:\n",
    "        dimensions_step = (np.array([2.4, 2, 0.4, 3.5])-np.array([-2.4, -2, -0.4, -3.5]))/nb_interval\n",
    "        intervals = np.array([-2.4, -2, -0.4, -3.5])\n",
    "        next_interval = np.array([-2.4, -2, -0.4, -3.5])\n",
    "    \n",
    "    for i in range(nb_interval):\n",
    "        next_interval = next_interval+dimensions_step\n",
    "        intervals = np.concatenate([intervals, next_interval], axis=0)\n",
    "                \n",
    "    return intervals.reshape((nb_interval+1, nb_var)).transpose()"
   ]
  },
  {
   "cell_type": "code",
   "execution_count": 10,
   "metadata": {},
   "outputs": [],
   "source": [
    "def max_dict(d):\n",
    "    k = max(d, key=lambda x: d[x])\n",
    "    return k, d[k]"
   ]
  },
  {
   "cell_type": "code",
   "execution_count": 11,
   "metadata": {},
   "outputs": [],
   "source": [
    "def epsilon_greedy(a, eps):\n",
    "    p = np.random.rand()\n",
    "    if p < eps:\n",
    "        return np.random.randint(env.action_space.n)\n",
    "    else:\n",
    "        return a"
   ]
  },
  {
   "cell_type": "markdown",
   "metadata": {},
   "source": [
    "## Oragnising the the state/action pairs"
   ]
  },
  {
   "cell_type": "markdown",
   "metadata": {},
   "source": [
    "### Full generation of the state acion dict"
   ]
  },
  {
   "cell_type": "code",
   "execution_count": 12,
   "metadata": {},
   "outputs": [],
   "source": [
    "def gen_key_from_interval_values(intervals_values):\n",
    "    return itertools.product(*intervals_values)"
   ]
  },
  {
   "cell_type": "code",
   "execution_count": 13,
   "metadata": {},
   "outputs": [],
   "source": [
    "def state_to_key(state, Q_dict):\n",
    "    return min(Q_dict, key=lambda x: np.sum([(x[i]-state[i])**2 for i, e in enumerate(x)]))"
   ]
  },
  {
   "cell_type": "code",
   "execution_count": 14,
   "metadata": {},
   "outputs": [],
   "source": [
    "def initialise_Q_values(keys, all_possible_actions, visit_counter=True):\n",
    "    Q_values_dict = dict()\n",
    "    if visit_counter: update_count = dict()\n",
    "    for k in keys:\n",
    "        Q_values_dict[k] = dict()\n",
    "        if visit_counter: update_count[k] = dict()\n",
    "        for a in range(all_possible_actions):\n",
    "            Q_values_dict[k][a] = 0\n",
    "            update_count[k][a] = 1\n",
    "    return Q_values_dict, update_count"
   ]
  },
  {
   "cell_type": "code",
   "execution_count": 15,
   "metadata": {},
   "outputs": [],
   "source": [
    "def turn(s, Q_values):\n",
    "    s_k = state_to_key(s, Q_values)\n",
    "    a, v = max_dict(Q_values[s_k])\n",
    "    a = epsilon_greedy(a)\n",
    "    s2, r, done, _ = env.step(a)\n",
    "    s2_k = state_to_key(s2, Q_values)\n",
    "    a2, v2 = max_dict(Q_values[s2_k])\n",
    "    a2 = epsilon_greedy(a2)\n",
    "    return s_k, a, r, s2_k, a2, done"
   ]
  },
  {
   "cell_type": "code",
   "execution_count": 16,
   "metadata": {},
   "outputs": [],
   "source": [
    "def update_Q(Q, s_k, a, r, s2_k, alpha, gamma, a2=None, update_count=None):\n",
    "    if not a2: a2, max_q_sa2 = max_dict(Q[s2_k])\n",
    "    if update_count: alpha = alpha/update_count[s_k][a]\n",
    "    Q[s_k][a] = Q[s_k][a] + alpha*(r + gamma*max_q_sa2 - Q[s_k][a])\n",
    "    if update_count:\n",
    "        update_count[s_k][a] += 0.005"
   ]
  },
  {
   "cell_type": "markdown",
   "metadata": {},
   "source": [
    "### Tree organisation of satte/action pairs"
   ]
  },
  {
   "cell_type": "code",
   "execution_count": 17,
   "metadata": {},
   "outputs": [],
   "source": [
    "def create_subtree(total_depht, current_depht, key, subtree, actions):\n",
    "    if total_depht==current_depht:\n",
    "        for a in range(actions):\n",
    "            subtree[a] = 0\n",
    "    else:\n",
    "        k = key[current_depht]\n",
    "        if k in subtree:\n",
    "            return create_subtree(total_depht, current_depht+1, key, subtree[k], actions)\n",
    "        else:\n",
    "            subtree[k] = dict()\n",
    "            create_subtree(total_depht, current_depht+1, key, subtree[k], actions)"
   ]
  },
  {
   "cell_type": "code",
   "execution_count": 18,
   "metadata": {},
   "outputs": [],
   "source": [
    "def initialise_Q_values_tree(keys, all_possible_actions, visit_counter=True):\n",
    "    Q = dict()\n",
    "    if visit_counter==True: update_count=dict()\n",
    "    for k in keys:\n",
    "        total_depht = len(k)\n",
    "        create_subtree(total_depht, 0, k, Q, all_possible_actions)\n",
    "        create_subtree(total_depht, 0, k, update_count, all_possible_actions)\n",
    "    return Q, update_count"
   ]
  },
  {
   "cell_type": "code",
   "execution_count": 19,
   "metadata": {},
   "outputs": [],
   "source": [
    "def search_subtree_key(value, subtree):\n",
    "    key = min(subtree, key=lambda x: (x-value)**2)\n",
    "    return key, subtree[key]"
   ]
  },
  {
   "cell_type": "code",
   "execution_count": 20,
   "metadata": {},
   "outputs": [],
   "source": [
    "def access_subtree(s, tree):\n",
    "    subtree = tree\n",
    "    for e in s:\n",
    "        k, subtree = search_subtree_key(e, subtree)\n",
    "    return subtree"
   ]
  },
  {
   "cell_type": "code",
   "execution_count": 21,
   "metadata": {},
   "outputs": [],
   "source": [
    "def turn(s, Q_values, eps):\n",
    "    a, v = max_dict(access_subtree(s, Q_values))\n",
    "    a = epsilon_greedy(a, eps=eps)\n",
    "    s2, r, done, _ = env.step(a)\n",
    "    return s, a, v, r, s2, done"
   ]
  },
  {
   "cell_type": "code",
   "execution_count": 22,
   "metadata": {},
   "outputs": [],
   "source": [
    "def update_Q(Q, s, a, v, r, s2, alpha, gamma, a2=None, update_count=None):\n",
    "    if not a2: a2, max_q_sa2 = max_dict(access_subtree(s2, Q))\n",
    "    if update_count: alpha = alpha/(1+access_subtree(s, update_count)[a])\n",
    "    v = v + alpha*(r + gamma*max_q_sa2 - v)\n",
    "    Qs = access_subtree(s, Q)\n",
    "    Qs[a] = v\n",
    "    if update_count:\n",
    "        counts = access_subtree(s, update_count)\n",
    "        counts[a] += 0.005"
   ]
  },
  {
   "cell_type": "markdown",
   "metadata": {},
   "source": [
    "## functions playing play the game"
   ]
  },
  {
   "cell_type": "code",
   "execution_count": 23,
   "metadata": {},
   "outputs": [],
   "source": [
    "def play_episode(env, Q, update_count, alpha=0.1, gamma=0.9, eps=0.8):\n",
    "    s = env.reset()\n",
    "    done = False\n",
    "    total_result = 0\n",
    "    \n",
    "    while not done:\n",
    "        s, a, v, r, s2, done = turn(s, Q, eps)\n",
    "        if done and total_result<198:\n",
    "            r = -300\n",
    "        update_Q(Q, s, a, v, r, s2, alpha, gamma, update_count=update_count)\n",
    "        s = s2\n",
    "        total_result += 1\n",
    "    \n",
    "    return total_result"
   ]
  },
  {
   "cell_type": "code",
   "execution_count": 24,
   "metadata": {},
   "outputs": [],
   "source": [
    "def initialise_Q(env):\n",
    "    #states = run_random_simulations(env, nb_it=10000)\n",
    "    intervals_values = generate_uniformely_distributed_intervals(states)\n",
    "    keys = gen_key_from_interval_values(intervals_values)\n",
    "    Q, update_count = initialise_Q_values_tree(keys, env.action_space.n)\n",
    "    return Q, update_count"
   ]
  },
  {
   "cell_type": "code",
   "execution_count": 25,
   "metadata": {},
   "outputs": [],
   "source": [
    "def learning_env(env, alpha, gamma, nb_episode=10000):\n",
    "    Q, update_count = initialise_Q(env)\n",
    "    last_100_episodes_result = []\n",
    "    \n",
    "    for i in range(nb_episode):\n",
    "        eps = 1.0/np.sqrt(i+1)\n",
    "        tot_res = play_episode(env, Q, update_count, alpha, gamma, eps)\n",
    "        last_100_episodes_result.append(tot_res)\n",
    "        if (i+1)%100==0:\n",
    "            print('%i/%i: %f.2'%(i+1, nb_episode, np.mean(last_100_episodes_result )))\n",
    "            last_100_episodes_result = []\n",
    "    \n",
    "    return Q"
   ]
  },
  {
   "cell_type": "code",
   "execution_count": 395,
   "metadata": {
    "scrolled": true
   },
   "outputs": [
    {
     "name": "stdout",
     "output_type": "stream",
     "text": [
      "100/10000: 21.350000.2\n",
      "200/10000: 26.620000.2\n",
      "300/10000: 24.760000.2\n",
      "400/10000: 40.630000.2\n",
      "500/10000: 61.380000.2\n",
      "600/10000: 65.960000.2\n",
      "700/10000: 85.290000.2\n",
      "800/10000: 77.300000.2\n",
      "900/10000: 74.710000.2\n",
      "1000/10000: 83.830000.2\n",
      "1100/10000: 78.950000.2\n",
      "1200/10000: 108.410000.2\n",
      "1300/10000: 118.200000.2\n",
      "1400/10000: 105.140000.2\n",
      "1500/10000: 118.400000.2\n",
      "1600/10000: 122.680000.2\n",
      "1700/10000: 128.190000.2\n",
      "1800/10000: 123.100000.2\n",
      "1900/10000: 131.400000.2\n",
      "2000/10000: 121.510000.2\n",
      "2100/10000: 147.080000.2\n",
      "2200/10000: 146.820000.2\n",
      "2300/10000: 137.530000.2\n",
      "2400/10000: 134.700000.2\n",
      "2500/10000: 148.420000.2\n",
      "2600/10000: 158.110000.2\n",
      "2700/10000: 143.660000.2\n",
      "2800/10000: 138.200000.2\n",
      "2900/10000: 143.390000.2\n",
      "3000/10000: 164.840000.2\n",
      "3100/10000: 147.570000.2\n",
      "3200/10000: 173.050000.2\n",
      "3300/10000: 167.440000.2\n",
      "3400/10000: 166.830000.2\n",
      "3500/10000: 163.010000.2\n",
      "3600/10000: 167.940000.2\n",
      "3700/10000: 156.670000.2\n",
      "3800/10000: 150.130000.2\n",
      "3900/10000: 165.830000.2\n",
      "4000/10000: 164.310000.2\n",
      "4100/10000: 165.720000.2\n",
      "4200/10000: 164.620000.2\n",
      "4300/10000: 179.820000.2\n",
      "4400/10000: 177.570000.2\n",
      "4500/10000: 167.240000.2\n",
      "4600/10000: 158.860000.2\n",
      "4700/10000: 161.590000.2\n",
      "4800/10000: 152.940000.2\n",
      "4900/10000: 156.200000.2\n",
      "5000/10000: 176.290000.2\n",
      "5100/10000: 179.760000.2\n",
      "5200/10000: 173.520000.2\n",
      "5300/10000: 182.890000.2\n",
      "5400/10000: 181.010000.2\n",
      "5500/10000: 181.410000.2\n",
      "5600/10000: 176.660000.2\n",
      "5700/10000: 188.820000.2\n",
      "5800/10000: 176.930000.2\n",
      "5900/10000: 189.900000.2\n",
      "6000/10000: 178.070000.2\n",
      "6100/10000: 182.160000.2\n",
      "6200/10000: 181.800000.2\n",
      "6300/10000: 179.070000.2\n",
      "6400/10000: 165.830000.2\n",
      "6500/10000: 176.070000.2\n",
      "6600/10000: 177.010000.2\n",
      "6700/10000: 182.620000.2\n",
      "6800/10000: 159.330000.2\n",
      "6900/10000: 181.720000.2\n",
      "7000/10000: 165.890000.2\n",
      "7100/10000: 164.580000.2\n",
      "7200/10000: 174.430000.2\n",
      "7300/10000: 185.290000.2\n",
      "7400/10000: 187.660000.2\n",
      "7500/10000: 193.650000.2\n",
      "7600/10000: 171.800000.2\n",
      "7700/10000: 184.060000.2\n",
      "7800/10000: 181.000000.2\n",
      "7900/10000: 189.690000.2\n",
      "8000/10000: 182.220000.2\n",
      "8100/10000: 178.140000.2\n",
      "8200/10000: 173.560000.2\n",
      "8300/10000: 170.340000.2\n",
      "8400/10000: 164.370000.2\n",
      "8500/10000: 179.540000.2\n",
      "8600/10000: 162.420000.2\n",
      "8700/10000: 167.400000.2\n",
      "8800/10000: 185.590000.2\n",
      "8900/10000: 181.460000.2\n",
      "9000/10000: 184.280000.2\n",
      "9100/10000: 190.670000.2\n",
      "9200/10000: 181.820000.2\n",
      "9300/10000: 183.190000.2\n",
      "9400/10000: 183.140000.2\n",
      "9500/10000: 183.710000.2\n",
      "9600/10000: 191.540000.2\n",
      "9700/10000: 191.450000.2\n",
      "9800/10000: 183.570000.2\n",
      "9900/10000: 186.850000.2\n",
      "10000/10000: 177.890000.2\n"
     ]
    }
   ],
   "source": [
    "Q = learning_env(env, 0.01, 0.9)"
   ]
  },
  {
   "cell_type": "markdown",
   "metadata": {},
   "source": [
    "###### GG"
   ]
  },
  {
   "cell_type": "markdown",
   "metadata": {},
   "source": [
    "# RBF_model"
   ]
  },
  {
   "cell_type": "code",
   "execution_count": 6,
   "metadata": {},
   "outputs": [],
   "source": [
    "from sklearn.preprocessing import StandardScaler\n",
    "from sklearn.kernel_approximation import RBFSampler\n",
    "from sklearn.linear_model import SGDRegressor\n",
    "from sklearn.pipeline import FeatureUnion"
   ]
  },
  {
   "cell_type": "code",
   "execution_count": 7,
   "metadata": {},
   "outputs": [],
   "source": [
    "class Transformer():\n",
    "    \n",
    "    def __init__(self, env, n_components=500):\n",
    "        self.std_scaler = StandardScaler()\n",
    "        self.rbf_transformer = FeatureUnion([\n",
    "            (\"rbf1\", RBFSampler(gamma=5.0, n_components=n_components)),\n",
    "            (\"rbf2\", RBFSampler(gamma=2.0, n_components=n_components)),\n",
    "            (\"rbf3\", RBFSampler(gamma=1.0, n_components=n_components)),\n",
    "            (\"rbf4\", RBFSampler(gamma=0.5, n_components=n_components))\n",
    "            ])\n",
    "        sample_states = np.array([env.observation_space.sample() for x in range(10000)])\n",
    "        self.std_scaler.fit(sample_states)\n",
    "        normalized_states = self.std_scaler.transform(sample_states)\n",
    "        self.rbf_transformer.fit(normalized_states)\n",
    "        \n",
    "    def transform(self, data):\n",
    "        normalized_data = self.std_scaler.transform(data)\n",
    "        return self.rbf_transformer.transform(normalized_data)"
   ]
  },
  {
   "cell_type": "code",
   "execution_count": 8,
   "metadata": {},
   "outputs": [],
   "source": [
    "class Model():\n",
    "    \n",
    "    def __init__(self, env, feature_transformer, learning_rate, gamma=0.99):\n",
    "        self.feature_transformer = feature_transformer\n",
    "        self.gamma = gamma\n",
    "        self.models = []\n",
    "        for i in range(env.action_space.n):\n",
    "            model = SGDRegressor(learning_rate=learning_rate)\n",
    "            init_s_val = env.observation_space.sample()\n",
    "            transf_init_s_val = self.feature_transformer.transform([init_s_val])\n",
    "            model.partial_fit(transf_init_s_val, [0])\n",
    "            self.models.append(model)\n",
    "            \n",
    "    def predict(self, raw_state):\n",
    "        transformed_state = self.feature_transformer.transform([raw_state])\n",
    "        results = np.stack([m.predict(transformed_state) for m in self.models]).T\n",
    "        a = np.argmax(results)\n",
    "        return a, results[0][a]\n",
    "    \n",
    "    def update_model(self, s, a, r, s2):\n",
    "        a2, max_qs2 = self.predict(s2)\n",
    "        G = r + self.gamma*max_qs2\n",
    "        s_transformed = self.feature_transformer.transform([s])\n",
    "        self.models[a].partial_fit(s_transformed, [G])"
   ]
  },
  {
   "cell_type": "code",
   "execution_count": 9,
   "metadata": {},
   "outputs": [],
   "source": [
    "def epsilon_greedy(a, eps):\n",
    "    p = np.random.rand()\n",
    "    if p < eps:\n",
    "        return env.action_space.sample()\n",
    "    else:\n",
    "        return a"
   ]
  },
  {
   "cell_type": "code",
   "execution_count": 10,
   "metadata": {},
   "outputs": [],
   "source": [
    "def turn(env, model, s, eps):\n",
    "    a, Qsa = model.predict(s)\n",
    "    a = epsilon_greedy(a, eps)\n",
    "    s2, r, done, _ = env.step(a)\n",
    "    model.update_model(s, a, r, s2)\n",
    "    return s2, r, done"
   ]
  },
  {
   "cell_type": "code",
   "execution_count": 11,
   "metadata": {},
   "outputs": [],
   "source": [
    "def play_one(env, model, eps=0.5):\n",
    "    s = env.reset()\n",
    "    done = False\n",
    "    result = 0\n",
    "    it = 0\n",
    "    \n",
    "    while not done and it<10000:\n",
    "        s, r, done = turn(env, model, s, eps)\n",
    "        result += r\n",
    "        it += 1\n",
    "    \n",
    "    return result"
   ]
  },
  {
   "cell_type": "code",
   "execution_count": 12,
   "metadata": {},
   "outputs": [],
   "source": [
    "def main(env, nb_episode):\n",
    "    ft_transf = Transformer(env)\n",
    "    model = Model(env, ft_transf, \"constant\")\n",
    "    \n",
    "    avg = []\n",
    "    \n",
    "    for n in range(nb_episode):\n",
    "        eps = 0.1*(0.97**n)\n",
    "        #eps = (1 - (n+1)/nb_episode)\n",
    "        r = play_one(env, model, eps)\n",
    "        avg.append(r)\n",
    "        \n",
    "        if not (n+1)%30:\n",
    "            print('%i/%i: %f.2, eps = %f.2'%(n+1, nb_episode, np.mean(avg), eps))\n",
    "            avg = []\n",
    "            \n",
    "    return model"
   ]
  },
  {
   "cell_type": "code",
   "execution_count": 13,
   "metadata": {},
   "outputs": [],
   "source": [
    "env = gym.make('MountainCar-v0')"
   ]
  },
  {
   "cell_type": "code",
   "execution_count": 17,
   "metadata": {},
   "outputs": [
    {
     "name": "stdout",
     "output_type": "stream",
     "text": [
      "30/300: -200.000000.2, eps = 0.041341.2\n",
      "60/300: -171.933333.2, eps = 0.016578.2\n",
      "90/300: -140.933333.2, eps = 0.006648.2\n",
      "120/300: -131.766667.2, eps = 0.002666.2\n",
      "150/300: -117.800000.2, eps = 0.001069.2\n",
      "180/300: -114.800000.2, eps = 0.000429.2\n",
      "210/300: -105.633333.2, eps = 0.000172.2\n",
      "240/300: -108.700000.2, eps = 0.000069.2\n",
      "270/300: -109.233333.2, eps = 0.000028.2\n",
      "300/300: -117.166667.2, eps = 0.000011.2\n"
     ]
    }
   ],
   "source": [
    "m = main(env, 300)"
   ]
  },
  {
   "cell_type": "code",
   "execution_count": 22,
   "metadata": {},
   "outputs": [
    {
     "data": {
      "image/png": "[encoded data removed]",
      "text/plain": [
       "<Figure size 432x288 with 1 Axes>"
      ]
     },
     "metadata": {
      "needs_background": "light"
     },
     "output_type": "display_data"
    }
   ],
   "source": [
    "s = env.reset()\n",
    "done = False\n",
    "img = plt.imshow(env.render(mode='rgb_array')) # only call this once\n",
    "while not done:\n",
    "    img.set_data(env.render(mode='rgb_array')) # just update the data\n",
    "    display.display(plt.gcf())\n",
    "    display.clear_output(wait=True)\n",
    "    action, Qsa = m.predict(s)\n",
    "    s, r, done, _ = env.step(action)"
   ]
  },
  {
   "cell_type": "code",
   "execution_count": 23,
   "metadata": {},
   "outputs": [
    {
     "name": "stdout",
     "output_type": "stream",
     "text": [
      "30/300: -200.000000.2, eps = 0.041341.2\n",
      "60/300: -178.633333.2, eps = 0.016578.2\n",
      "90/300: -143.966667.2, eps = 0.006648.2\n",
      "120/300: -131.733333.2, eps = 0.002666.2\n",
      "150/300: -121.266667.2, eps = 0.001069.2\n",
      "180/300: -116.200000.2, eps = 0.000429.2\n",
      "210/300: -109.733333.2, eps = 0.000172.2\n",
      "240/300: -112.700000.2, eps = 0.000069.2\n",
      "270/300: -113.800000.2, eps = 0.000028.2\n",
      "300/300: -116.200000.2, eps = 0.000011.2\n"
     ]
    },
    {
     "data": {
      "text/plain": [
       "<__main__.Model at 0x7fbb67154550>"
      ]
     },
     "execution_count": 23,
     "metadata": {},
     "output_type": "execute_result"
    }
   ],
   "source": [
    "main(env, 300)"
   ]
  },
  {
   "cell_type": "code",
   "execution_count": 47,
   "metadata": {},
   "outputs": [],
   "source": [
    "env = gym.make('CartPole-v0')"
   ]
  },
  {
   "cell_type": "markdown",
   "metadata": {},
   "source": [
    "# Recoding the SGDRegressor"
   ]
  },
  {
   "cell_type": "code",
   "execution_count": 32,
   "metadata": {},
   "outputs": [],
   "source": [
    "class Transformer():\n",
    "    \n",
    "    def __init__(self, env, n_components=500):\n",
    "        self.std_scaler = StandardScaler()\n",
    "        self.rbf_transformer = FeatureUnion([\n",
    "            (\"rbf1\", RBFSampler(gamma=0.05, n_components=n_components)),\n",
    "            (\"rbf2\", RBFSampler(gamma=1.0, n_components=n_components)),\n",
    "            (\"rbf3\", RBFSampler(gamma=0.5, n_components=n_components)),\n",
    "            (\"rbf4\", RBFSampler(gamma=0.1, n_components=n_components))\n",
    "            ])\n",
    "        sample_states = np.array([env.observation_space.sample() for x in range(10000)])\n",
    "        sample_states = np.array([[np.random.uniform(-2.4, 2.4), np.random.uniform(-2, 2), np.random.uniform(-0.4, 0.4), np.random.uniform(-3.5, 3.5)] for x in range(10000)])\n",
    "        self.std_scaler.fit(sample_states)\n",
    "        normalized_states = self.std_scaler.transform(sample_states)\n",
    "        self.rbf_transformer.fit(normalized_states)\n",
    "        self.dimensions = self.rbf_transformer.transform(normalized_states).shape[1]\n",
    "        \n",
    "    def transform(self, data):\n",
    "        normalized_data = self.std_scaler.transform(data)\n",
    "        return self.rbf_transformer.transform(normalized_data)"
   ]
  },
  {
   "cell_type": "code",
   "execution_count": 33,
   "metadata": {},
   "outputs": [],
   "source": [
    "def main(env, nb_episode):\n",
    "    ft_transf = Transformer(env)\n",
    "    model = Model(env, ft_transf, \"constant\")\n",
    "    \n",
    "    avg = []\n",
    "    \n",
    "    for n in range(nb_episode):\n",
    "        #eps = 0.1*(0.97**n)\n",
    "        eps = (1 - (n+1)/nb_episode)\n",
    "        #eps = 0.8\n",
    "        r = play_one(env, model, eps)\n",
    "        avg.append(r)\n",
    "        \n",
    "        if not (n+1)%30:\n",
    "            print('%i/%i: %f.2, eps = %f.2'%(n+1, nb_episode, np.mean(avg), eps))\n",
    "            avg = []\n",
    "            \n",
    "    return model"
   ]
  },
  {
   "cell_type": "code",
   "execution_count": 34,
   "metadata": {},
   "outputs": [],
   "source": [
    "class SGDRegressor():\n",
    "    def __init__(self, D):\n",
    "        self.D = np.random.randn(D) / np.sqrt(D)\n",
    "        self.lr = 0.1\n",
    "    \n",
    "    def predict(self, X):\n",
    "        return X.dot(self.D)\n",
    "    \n",
    "    def partial_fit(self, X, Y):\n",
    "        self.D += self.lr*(Y - X.dot(self.D)).dot(X)"
   ]
  },
  {
   "cell_type": "code",
   "execution_count": 35,
   "metadata": {},
   "outputs": [],
   "source": [
    "class Model():\n",
    "    \n",
    "    def __init__(self, env, feature_transformer, learning_rate, gamma=0.99):\n",
    "        self.feature_transformer = feature_transformer\n",
    "        self.gamma = gamma\n",
    "        self.models = []\n",
    "        for i in range(env.action_space.n):\n",
    "            model = SGDRegressor(self.feature_transformer.dimensions)\n",
    "            init_s_val = env.observation_space.sample()\n",
    "            transf_init_s_val = self.feature_transformer.transform([init_s_val])\n",
    "            model.partial_fit(transf_init_s_val, [0])\n",
    "            self.models.append(model)\n",
    "            \n",
    "    def predict(self, raw_state):\n",
    "        transformed_state = self.feature_transformer.transform([raw_state])\n",
    "        results = np.stack([m.predict(transformed_state) for m in self.models]).T\n",
    "        a = np.argmax(results)\n",
    "        return a, results[0][a]\n",
    "    \n",
    "    def update_model(self, s, a, r, s2):\n",
    "        a2, max_qs2 = self.predict(s2)\n",
    "        G = r + self.gamma*max_qs2\n",
    "        s_transformed = self.feature_transformer.transform([s])\n",
    "        self.models[a].partial_fit(s_transformed, [G])"
   ]
  },
  {
   "cell_type": "code",
   "execution_count": 36,
   "metadata": {},
   "outputs": [],
   "source": [
    "def turn(env, model, s, eps, current_score):\n",
    "    a, Qsa = model.predict(s)\n",
    "    a = epsilon_greedy(a, eps)\n",
    "    s2, r, done, _ = env.step(a)\n",
    "    if done and current_score<198:\n",
    "        r = -300\n",
    "    model.update_model(s, a, r, s2)\n",
    "    return s2, r, done"
   ]
  },
  {
   "cell_type": "code",
   "execution_count": 37,
   "metadata": {},
   "outputs": [],
   "source": [
    "def play_one(env, model, eps=0.5):\n",
    "    s = env.reset()\n",
    "    done = False\n",
    "    result = 0\n",
    "    it = 0\n",
    "    \n",
    "    while not done and it<10000:\n",
    "        s, r, done = turn(env, model, s, eps, result)\n",
    "        result += r\n",
    "        it += 1\n",
    "    \n",
    "    return result"
   ]
  },
  {
   "cell_type": "code",
   "execution_count": 70,
   "metadata": {},
   "outputs": [
    {
     "name": "stdout",
     "output_type": "stream",
     "text": [
      "30/600: -276.433333.2, eps = 0.950000.2\n",
      "60/600: -272.933333.2, eps = 0.900000.2\n",
      "90/600: -271.733333.2, eps = 0.850000.2\n",
      "120/600: -271.733333.2, eps = 0.800000.2\n",
      "150/600: -263.400000.2, eps = 0.750000.2\n",
      "180/600: -249.700000.2, eps = 0.700000.2\n",
      "210/600: -243.733333.2, eps = 0.650000.2\n",
      "240/600: -228.566667.2, eps = 0.600000.2\n",
      "270/600: -209.866667.2, eps = 0.550000.2\n",
      "300/600: -154.066667.2, eps = 0.500000.2\n",
      "330/600: -93.566667.2, eps = 0.450000.2\n",
      "360/600: -81.600000.2, eps = 0.400000.2\n",
      "390/600: -82.633333.2, eps = 0.350000.2\n",
      "420/600: -71.200000.2, eps = 0.300000.2\n",
      "450/600: 44.700000.2, eps = 0.250000.2\n",
      "480/600: 146.433333.2, eps = 0.200000.2\n",
      "510/600: 151.833333.2, eps = 0.150000.2\n",
      "540/600: 147.700000.2, eps = 0.100000.2\n",
      "570/600: 200.000000.2, eps = 0.050000.2\n",
      "600/600: 200.000000.2, eps = 0.000000.2\n"
     ]
    },
    {
     "data": {
      "text/plain": [
       "<__main__.Model at 0x7f83ef2d83c8>"
      ]
     },
     "execution_count": 70,
     "metadata": {},
     "output_type": "execute_result"
    }
   ],
   "source": [
    "main(env, 600)"
   ]
  },
  {
   "cell_type": "markdown",
   "metadata": {},
   "source": [
    "# Recoding the SGDRegressor with tensorflow"
   ]
  },
  {
   "cell_type": "code",
   "execution_count": 43,
   "metadata": {},
   "outputs": [],
   "source": [
    "class SGDRegressor():\n",
    "\n",
    "    def __init__(self, D):\n",
    "        print(\"Hello TensorFlow!\")\n",
    "        lr = 0.1\n",
    "\n",
    "        # create inputs, targets, params\n",
    "        # matmul doesn't like when w is 1-D\n",
    "        # so we make it 2-D and then flatten the prediction\n",
    "        self.w = tf.Variable(tf.random_normal(shape=(D, 1)), name='w')\n",
    "        self.X = tf.placeholder(tf.float32, shape=(None, D), name='X')\n",
    "        self.Y = tf.placeholder(tf.float32, shape=(None,), name='Y')\n",
    "\n",
    "        # make prediction and cost\n",
    "        Y_hat = tf.reshape( tf.matmul(self.X, self.w), [-1] )\n",
    "        delta = self.Y - Y_hat\n",
    "        cost = tf.reduce_sum(delta * delta)\n",
    "\n",
    "        # ops we want to call later\n",
    "        self.train_op = tf.train.GradientDescentOptimizer(lr).minimize(cost)\n",
    "        self.predict_op = Y_hat\n",
    "\n",
    "        # start the session and initialize params\n",
    "        init = tf.global_variables_initializer()\n",
    "        self.session = tf.InteractiveSession()\n",
    "        self.session.run(init)\n",
    "\n",
    "    def partial_fit(self, X, Y):\n",
    "        self.session.run(self.train_op, feed_dict={self.X: X, self.Y: Y})\n",
    "\n",
    "    def predict(self, X):\n",
    "        return self.session.run(self.predict_op, feed_dict={self.X: X})"
   ]
  },
  {
   "cell_type": "code",
   "execution_count": 48,
   "metadata": {},
   "outputs": [
    {
     "name": "stdout",
     "output_type": "stream",
     "text": [
      "Hello TensorFlow!\n",
      "Hello TensorFlow!\n"
     ]
    },
    {
     "name": "stderr",
     "output_type": "stream",
     "text": [
      "/usr/local/lib/python3.6/dist-packages/tensorflow/python/client/session.py:1702: UserWarning: An interactive session is already active. This can cause out-of-memory errors in some cases. You must explicitly call `InteractiveSession.close()` to release resources held by the other session(s).\n",
      "  warnings.warn('An interactive session is already active. This can '\n",
      "/usr/local/lib/python3.6/dist-packages/tensorflow/python/client/session.py:1702: UserWarning: An interactive session is already active. This can cause out-of-memory errors in some cases. You must explicitly call `InteractiveSession.close()` to release resources held by the other session(s).\n",
      "  warnings.warn('An interactive session is already active. This can '\n"
     ]
    },
    {
     "name": "stdout",
     "output_type": "stream",
     "text": [
      "30/600: -277.433333.2, eps = 0.950000.2\n",
      "60/600: -277.500000.2, eps = 0.900000.2\n",
      "90/600: -277.133333.2, eps = 0.850000.2\n",
      "120/600: -266.900000.2, eps = 0.800000.2\n",
      "150/600: -266.466667.2, eps = 0.750000.2\n",
      "180/600: -247.066667.2, eps = 0.700000.2\n",
      "210/600: -245.400000.2, eps = 0.650000.2\n",
      "240/600: -218.166667.2, eps = 0.600000.2\n",
      "270/600: -213.700000.2, eps = 0.550000.2\n",
      "300/600: -230.333333.2, eps = 0.500000.2\n",
      "330/600: -223.366667.2, eps = 0.450000.2\n",
      "360/600: -148.666667.2, eps = 0.400000.2\n",
      "390/600: -122.766667.2, eps = 0.350000.2\n",
      "420/600: -100.033333.2, eps = 0.300000.2\n",
      "450/600: -91.300000.2, eps = 0.250000.2\n",
      "480/600: 11.766667.2, eps = 0.200000.2\n",
      "510/600: 90.133333.2, eps = 0.150000.2\n",
      "540/600: 122.766667.2, eps = 0.100000.2\n",
      "570/600: 175.133333.2, eps = 0.050000.2\n",
      "600/600: 188.433333.2, eps = 0.000000.2\n"
     ]
    },
    {
     "data": {
      "text/plain": [
       "<__main__.Model at 0x7f2c50afc748>"
      ]
     },
     "execution_count": 48,
     "metadata": {},
     "output_type": "execute_result"
    }
   ],
   "source": [
    "main(env, 600)"
   ]
  },
  {
   "cell_type": "markdown",
   "metadata": {},
   "source": [
    "# N-length / TD(lambda)"
   ]
  },
  {
   "cell_type": "code",
   "execution_count": 77,
   "metadata": {},
   "outputs": [],
   "source": [
    "class SGDRegressor():\n",
    "    def __init__(self, D):\n",
    "        self.D = np.random.randn(D) / np.sqrt(D)\n",
    "        self.lr = 0.1\n",
    "    \n",
    "    def predict(self, X):\n",
    "        return X.dot(self.D)\n",
    "    \n",
    "    def partial_fit(self, X, Y, e):\n",
    "        self.D += self.lr*(Y - X.dot(self.D))*e[0]"
   ]
  },
  {
   "cell_type": "code",
   "execution_count": 78,
   "metadata": {},
   "outputs": [],
   "source": [
    "class Model():\n",
    "    \n",
    "    def __init__(self, env, feature_transformer, learning_rate, gamma=0.99, lambda_=0.7):\n",
    "        self.feature_transformer = feature_transformer\n",
    "        self.gamma = gamma\n",
    "        self.lambda_ = lambda_\n",
    "        self.e = np.zeros((env.action_space.n, self.feature_transformer.dimensions))\n",
    "        self.models = []\n",
    "        for i in range(env.action_space.n):\n",
    "            model = SGDRegressor(self.feature_transformer.dimensions)\n",
    "            init_s_val = env.observation_space.sample()\n",
    "            self.models.append(model)\n",
    "            \n",
    "    def predict(self, raw_state):\n",
    "        transformed_state = self.feature_transformer.transform([raw_state])\n",
    "        results = np.stack([m.predict(transformed_state) for m in self.models]).T\n",
    "        a = np.argmax(results)\n",
    "        return a, results[0][a]\n",
    "    \n",
    "    def update_model(self, s, a, r, s2):\n",
    "        a2, max_qs2 = self.predict(s2)\n",
    "        G = r + self.gamma*max_qs2\n",
    "        s_transformed = self.feature_transformer.transform([s])\n",
    "        self.e *= self.gamma*self.lambda_\n",
    "        self.e[a] += s_transformed.reshape((2000,))\n",
    "        self.models[a].partial_fit(s_transformed, [G], self.e)"
   ]
  },
  {
   "cell_type": "code",
   "execution_count": 79,
   "metadata": {},
   "outputs": [
    {
     "name": "stdout",
     "output_type": "stream",
     "text": [
      "30/600: -279.666667.2, eps = 0.950000.2\n",
      "60/600: -270.833333.2, eps = 0.900000.2\n",
      "90/600: -273.666667.2, eps = 0.850000.2\n",
      "120/600: -272.266667.2, eps = 0.800000.2\n",
      "150/600: -264.600000.2, eps = 0.750000.2\n",
      "180/600: -254.566667.2, eps = 0.700000.2\n",
      "210/600: -235.066667.2, eps = 0.650000.2\n",
      "240/600: -211.033333.2, eps = 0.600000.2\n",
      "270/600: -200.033333.2, eps = 0.550000.2\n",
      "300/600: -195.333333.2, eps = 0.500000.2\n",
      "330/600: -87.100000.2, eps = 0.450000.2\n",
      "360/600: -166.866667.2, eps = 0.400000.2\n",
      "390/600: -37.533333.2, eps = 0.350000.2\n",
      "420/600: 33.100000.2, eps = 0.300000.2\n",
      "450/600: -16.300000.2, eps = 0.250000.2\n",
      "480/600: 96.333333.2, eps = 0.200000.2\n",
      "510/600: 174.333333.2, eps = 0.150000.2\n",
      "540/600: 185.700000.2, eps = 0.100000.2\n",
      "570/600: 200.000000.2, eps = 0.050000.2\n",
      "600/600: 200.000000.2, eps = 0.000000.2\n"
     ]
    },
    {
     "data": {
      "text/plain": [
       "<__main__.Model at 0x7f2a19c7f860>"
      ]
     },
     "execution_count": 79,
     "metadata": {},
     "output_type": "execute_result"
    }
   ],
   "source": [
    "main(env, 600)"
   ]
  },
  {
   "cell_type": "markdown",
   "metadata": {},
   "source": [
    "# Policy Gradient method (actor critic method)"
   ]
  },
  {
   "cell_type": "code",
   "execution_count": null,
   "metadata": {},
   "outputs": [],
   "source": [
    "class SGDRegressor():\n",
    "\n",
    "    def __init__(self, D):\n",
    "        print(\"Hello TensorFlow!\")\n",
    "        lr = 0.1\n",
    "\n",
    "        # create inputs, targets, params\n",
    "        # matmul doesn't like when w is 1-D\n",
    "        # so we make it 2-D and then flatten the prediction\n",
    "        self.w = tf.Variable(tf.random_normal(shape=(D, 1)), name='w')\n",
    "        self.X = tf.placeholder(tf.float32, shape=(None, D), name='X')\n",
    "        self.Y = tf.placeholder(tf.float32, shape=(None,), name='Y')\n",
    "\n",
    "        # make prediction and cost\n",
    "        Y_hat = tf.reshape( tf.matmul(self.X, self.w), [-1] )\n",
    "        delta = self.Y - Y_hat\n",
    "        cost = tf.reduce_sum(delta * delta)\n",
    "\n",
    "        # ops we want to call later\n",
    "        self.train_op = tf.train.GradientDescentOptimizer(lr).minimize(cost)\n",
    "        self.predict_op = Y_hat\n",
    "\n",
    "        # start the session and initialize params\n",
    "        init = tf.global_variables_initializer()\n",
    "        self.session = tf.InteractiveSession()\n",
    "        self.session.run(init)\n",
    "\n",
    "    def partial_fit(self, X, Y):\n",
    "        self.session.run(self.train_op, feed_dict={self.X: X, self.Y: Y})\n",
    "\n",
    "    def predict(self, X):\n",
    "        return self.session.run(self.predict_op, feed_dict={self.X: X})"
   ]
  }
 ],
 "metadata": {
  "kernelspec": {
   "display_name": "Python 3",
   "language": "python",
   "name": "python3"
  },
  "language_info": {
   "codemirror_mode": {
    "name": "ipython",
    "version": 3
   },
   "file_extension": ".py",
   "mimetype": "text/x-python",
   "name": "python",
   "nbconvert_exporter": "python",
   "pygments_lexer": "ipython3",
   "version": "3.6.8"
  }
 },
 "nbformat": 4,
 "nbformat_minor": 2
}
