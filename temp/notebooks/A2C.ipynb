{
 "cells": [
  {
   "cell_type": "code",
   "execution_count": 1,
   "metadata": {},
   "outputs": [
    {
     "name": "stdout",
     "output_type": "stream",
     "text": [
      "pygame 1.9.6\n",
      "Hello from the pygame community. https://www.pygame.org/contribute.html\n"
     ]
    }
   ],
   "source": [
    "import os\n",
    "\n",
    "from pysc2 import maps\n",
    "from pysc2.env import available_actions_printer\n",
    "from pysc2.env import run_loop\n",
    "from pysc2.env import sc2_env\n",
    "from pysc2.lib import point_flag\n",
    "from pysc2.lib import stopwatch\n",
    "\n",
    "from absl import app\n",
    "from absl import flags\n",
    "from future.builtins import range\n",
    "\n",
    "import random\n",
    "import math\n",
    "\n",
    "import numpy as np\n",
    "import tensorflow as tf\n",
    "\n",
    "from pysc2.agents import base_agent\n",
    "from pysc2.lib import actions\n",
    "from pysc2.lib import features"
   ]
  },
  {
   "cell_type": "code",
   "execution_count": 2,
   "metadata": {},
   "outputs": [],
   "source": [
    "os.environ[\"SC2PATH\"] = \"/home/nsml/StarCraftII\""
   ]
  },
  {
   "cell_type": "code",
   "execution_count": 3,
   "metadata": {},
   "outputs": [],
   "source": [
    "import sys\n",
    "sys.argv = [\"python\", \"--map\", \"Simple64\"]\n",
    "\n",
    "# Copyright 2017 Google Inc. All Rights Reserved.\n",
    "#\n",
    "# Licensed under the Apache License, Version 2.0 (the \"License\");\n",
    "# you may not use this file except in compliance with the License.\n",
    "# You may obtain a copy of the License at\n",
    "#\n",
    "#      http://www.apache.org/licenses/LICENSE-2.0\n",
    "#\n",
    "# Unless required by applicable law or agreed to in writing, software\n",
    "# distributed under the License is distributed on an \"AS-IS\" BASIS,\n",
    "# WITHOUT WARRANTIES OR CONDITIONS OF ANY KIND, either express or implied.\n",
    "# See the License for the specific language governing permissions and\n",
    "# limitations under the License.\n",
    "\"\"\"Run an agent.\"\"\"\n",
    "\n",
    "FLAGS = flags.FLAGS\n",
    "\n",
    "# because of Abseil's horrible design for running code underneath Colabs\n",
    "# We have to pull out this ugly hack from the hat\n",
    "if \"flags_defined\" not in globals():\n",
    "    \n",
    "    flags.DEFINE_bool(\"render\", False, \"Whether to render with pygame.\")\n",
    "    point_flag.DEFINE_point(\"feature_screen_size\", \"84\",\n",
    "                            \"Resolution for screen feature layers.\")\n",
    "    point_flag.DEFINE_point(\"feature_minimap_size\", \"64\",\n",
    "                            \"Resolution for minimap feature layers.\")\n",
    "    point_flag.DEFINE_point(\"rgb_screen_size\", None,\n",
    "                            \"Resolution for rendered screen.\")\n",
    "    point_flag.DEFINE_point(\"rgb_minimap_size\", None,\n",
    "                            \"Resolution for rendered minimap.\")\n",
    "    flags.DEFINE_enum(\"action_space\", None, sc2_env.ActionSpace._member_names_,  # pylint: disable=protected-access\n",
    "                      \"Which action space to use. Needed if you take both feature \"\n",
    "                      \"and rgb observations.\")\n",
    "    flags.DEFINE_bool(\"use_feature_units\", False,\n",
    "                      \"Whether to include feature units.\")\n",
    "    flags.DEFINE_bool(\"disable_fog\", False, \"Whether to disable Fog of War.\")\n",
    "\n",
    "    flags.DEFINE_integer(\"max_agent_steps\", 0, \"Total agent steps.\")\n",
    "    flags.DEFINE_integer(\"game_steps_per_episode\", None, \"Game steps per episode.\")\n",
    "    flags.DEFINE_integer(\"max_episodes\", 0, \"Total episodes.\")\n",
    "    flags.DEFINE_integer(\"step_mul\", 8, \"Game steps per agent step.\")\n",
    "\n",
    "    flags.DEFINE_string(\"agent\", \"pysc2.agents.random_agent.RandomAgent\",\n",
    "                        \"Which agent to run, as a python path to an Agent class.\")\n",
    "    flags.DEFINE_enum(\"agent_race\", \"random\", sc2_env.Race._member_names_,  # pylint: disable=protected-access\n",
    "                      \"Agent 1's race.\")\n",
    "\n",
    "    flags.DEFINE_string(\"agent2\", \"Bot\", \"Second agent, either Bot or agent class.\")\n",
    "    flags.DEFINE_enum(\"agent2_race\", \"random\", sc2_env.Race._member_names_,  # pylint: disable=protected-access\n",
    "                      \"Agent 2's race.\")\n",
    "    flags.DEFINE_enum(\"difficulty\", \"very_easy\", sc2_env.Difficulty._member_names_,  # pylint: disable=protected-access\n",
    "                      \"If agent2 is a built-in Bot, it's strength.\")\n",
    "\n",
    "    flags.DEFINE_bool(\"profile\", False, \"Whether to turn on code profiling.\")\n",
    "    flags.DEFINE_bool(\"trace\", False, \"Whether to trace the code execution.\")\n",
    "    flags.DEFINE_integer(\"parallel\", 1, \"How many instances to run in parallel.\")\n",
    "\n",
    "    flags.DEFINE_bool(\"save_replay\", True, \"Whether to save a replay at the end.\")\n",
    "    \n",
    "    flags.DEFINE_string(\"map\", \"CollectMineralShards\", \"Name of a map to use.\")\n",
    "    \n",
    "    \n",
    "flags_defined = True"
   ]
  },
  {
   "cell_type": "code",
   "execution_count": 4,
   "metadata": {},
   "outputs": [],
   "source": [
    "class A3CAgent(base_agent.BaseAgent):\n",
    "    \n",
    "    def __init__(self):\n",
    "        super(SmartAgent, self).__init__()\n",
    "        \n",
    "        self.qlearn = QLearningTable(actions=list(range(len(smart_actions))))\n",
    "        \n",
    "        self.previous_killed_unit_score = 0\n",
    "        self.previous_killed_building_score = 0\n",
    "        \n",
    "        self.previous_action = None\n",
    "        self.previous_state = None\n",
    "    \n",
    "    def step(self, obs):\n",
    "        super(A3CAgent, self).step(obs)\n",
    "        \n",
    "        return actions.FUNCTIONS.no_op()"
   ]
  },
  {
   "cell_type": "code",
   "execution_count": null,
   "metadata": {},
   "outputs": [],
   "source": [
    "class HiddenLayer:\n",
    "    def __init__(self, M1, M2, f=tf.nn.tanh, use_bias=True):\n",
    "        self.W = tf.Variable(tf.random_normal(shape=(M1, M2)))\n",
    "        self.params = [self.W]\n",
    "        self.use_bias = use_bias\n",
    "        if use_bias:\n",
    "            self.b = tf.Variable(np.zeros(M2).astype(np.float32))\n",
    "            self.params.append(self.b)\n",
    "        self.f = f\n",
    "\n",
    "    def forward(self, X):\n",
    "        if self.use_bias:\n",
    "            a = tf.matmul(X, self.W) + self.b\n",
    "        else:\n",
    "            a = tf.matmul(X, self.W)\n",
    "    return self.f(a)"
   ]
  },
  {
   "cell_type": "code",
   "execution_count": 6,
   "metadata": {},
   "outputs": [
    {
     "name": "stderr",
     "output_type": "stream",
     "text": [
      "I1211 16:12:24.123681 140459533813568 sc_process.py:135] Launching SC2: /home/nsml/StarCraftII/Versions/Base59877/SC2_x64 -listen 127.0.0.1 -port 21494 -dataDir /home/nsml/StarCraftII/ -tempDir /tmp/sc-9rhqny6z/\n",
      "I1211 16:12:24.138019 140459533813568 remote_controller.py:167] Connecting to: ws://127.0.0.1:21494/sc2api, attempt: 0, running: True\n"
     ]
    },
    {
     "name": "stdout",
     "output_type": "stream",
     "text": [
      "CollectMineralShards\n"
     ]
    },
    {
     "name": "stderr",
     "output_type": "stream",
     "text": [
      "I1211 16:12:25.144672 140459533813568 remote_controller.py:167] Connecting to: ws://127.0.0.1:21494/sc2api, attempt: 1, running: True\n",
      "I1211 16:12:26.146149 140459533813568 remote_controller.py:167] Connecting to: ws://127.0.0.1:21494/sc2api, attempt: 2, running: True\n",
      "I1211 16:12:32.899554 140459533813568 sc2_env.py:314] Environment is ready\n",
      "I1211 16:12:32.900476 140459533813568 sc2_env.py:507] Starting episode 1: [terran] on CollectMineralShards\n",
      "I1211 16:12:32.938467 140459533813568 sc2_env.py:507] Starting episode 2: [terran] on CollectMineralShards\n",
      "I1211 16:12:34.441949 140459533813568 sc2_env.py:725] Episode 2 finished after 1920 game steps. Outcome: [1], reward: [0], score: [0]\n",
      "I1211 16:12:34.471040 140459533813568 sc2_env.py:507] Starting episode 3: [terran] on CollectMineralShards\n",
      "I1211 16:12:35.883983 140459533813568 sc2_env.py:725] Episode 3 finished after 1920 game steps. Outcome: [1], reward: [0], score: [0]\n",
      "I1211 16:12:35.915439 140459533813568 sc2_env.py:507] Starting episode 4: [terran] on CollectMineralShards\n",
      "I1211 16:12:37.362992 140459533813568 sc2_env.py:725] Episode 4 finished after 1920 game steps. Outcome: [1], reward: [0], score: [1]\n",
      "I1211 16:12:37.396245 140459533813568 sc2_env.py:507] Starting episode 5: [terran] on CollectMineralShards\n",
      "I1211 16:12:38.782364 140459533813568 sc2_env.py:725] Episode 5 finished after 1920 game steps. Outcome: [1], reward: [0], score: [0]\n",
      "I1211 16:12:38.812714 140459533813568 sc2_env.py:507] Starting episode 6: [terran] on CollectMineralShards\n",
      "I1211 16:12:39.481427 140459533813568 sc2_env.py:752] Environment Close\n",
      "I1211 16:12:39.515739 140459533813568 sc_process.py:232] Shutdown gracefully.\n",
      "I1211 16:12:39.516650 140459533813568 sc_process.py:210] Shutdown with return code: -2\n",
      "I1211 16:12:39.521604 140459533813568 sc_process.py:135] Launching SC2: /home/nsml/StarCraftII/Versions/Base59877/SC2_x64 -listen 127.0.0.1 -port 22615 -dataDir /home/nsml/StarCraftII/ -tempDir /tmp/sc-luhg5snq/\n",
      "I1211 16:12:39.534757 140459533813568 remote_controller.py:167] Connecting to: ws://127.0.0.1:22615/sc2api, attempt: 0, running: True\n"
     ]
    },
    {
     "name": "stdout",
     "output_type": "stream",
     "text": [
      "Took 6.573 seconds for 1076 steps: 163.694 fps\n",
      "CollectMineralShards\n"
     ]
    },
    {
     "name": "stderr",
     "output_type": "stream",
     "text": [
      "I1211 16:12:40.540050 140459533813568 remote_controller.py:167] Connecting to: ws://127.0.0.1:22615/sc2api, attempt: 1, running: True\n",
      "I1211 16:12:41.543122 140459533813568 remote_controller.py:167] Connecting to: ws://127.0.0.1:22615/sc2api, attempt: 2, running: True\n",
      "I1211 16:12:48.407186 140459533813568 sc2_env.py:314] Environment is ready\n",
      "I1211 16:12:48.408304 140459533813568 sc2_env.py:752] Environment Close\n",
      "I1211 16:12:48.409437 140459533813568 sc2_env.py:507] Starting episode 1: [terran] on CollectMineralShards\n",
      "I1211 16:12:48.447991 140459533813568 sc2_env.py:507] Starting episode 2: [terran] on CollectMineralShards\n",
      "I1211 16:12:49.918259 140459533813568 sc2_env.py:725] Episode 2 finished after 1920 game steps. Outcome: [1], reward: [0], score: [0]\n",
      "I1211 16:12:49.949822 140459533813568 sc2_env.py:507] Starting episode 3: [terran] on CollectMineralShards\n",
      "I1211 16:12:51.421367 140459533813568 sc2_env.py:725] Episode 3 finished after 1920 game steps. Outcome: [1], reward: [0], score: [0]\n",
      "I1211 16:12:51.451861 140459533813568 sc2_env.py:507] Starting episode 4: [terran] on CollectMineralShards\n",
      "I1211 16:12:52.884612 140459533813568 sc2_env.py:725] Episode 4 finished after 1920 game steps. Outcome: [1], reward: [0], score: [0]\n",
      "I1211 16:12:52.916496 140459533813568 sc2_env.py:507] Starting episode 5: [terran] on CollectMineralShards\n",
      "I1211 16:12:54.314341 140459533813568 sc2_env.py:725] Episode 5 finished after 1920 game steps. Outcome: [1], reward: [0], score: [0]\n",
      "I1211 16:12:54.342917 140459533813568 sc2_env.py:507] Starting episode 6: [terran] on CollectMineralShards\n",
      "I1211 16:12:55.661754 140459533813568 sc2_env.py:725] Episode 6 finished after 1920 game steps. Outcome: [1], reward: [0], score: [0]\n",
      "I1211 16:12:55.692497 140459533813568 sc2_env.py:507] Starting episode 7: [terran] on CollectMineralShards\n",
      "I1211 16:12:57.059504 140459533813568 sc2_env.py:725] Episode 7 finished after 1920 game steps. Outcome: [1], reward: [0], score: [0]\n",
      "I1211 16:12:57.090300 140459533813568 sc2_env.py:507] Starting episode 8: [terran] on CollectMineralShards\n",
      "I1211 16:12:58.468723 140459533813568 sc2_env.py:725] Episode 8 finished after 1920 game steps. Outcome: [1], reward: [0], score: [0]\n",
      "I1211 16:12:58.499429 140459533813568 sc2_env.py:507] Starting episode 9: [terran] on CollectMineralShards\n",
      "I1211 16:12:59.875041 140459533813568 sc2_env.py:725] Episode 9 finished after 1920 game steps. Outcome: [1], reward: [0], score: [0]\n",
      "I1211 16:12:59.905447 140459533813568 sc2_env.py:507] Starting episode 10: [terran] on CollectMineralShards\n",
      "I1211 16:13:01.179634 140459533813568 sc2_env.py:725] Episode 10 finished after 1920 game steps. Outcome: [1], reward: [0], score: [0]\n",
      "I1211 16:13:01.209936 140459533813568 sc2_env.py:507] Starting episode 11: [terran] on CollectMineralShards\n",
      "I1211 16:13:02.556329 140459533813568 sc2_env.py:725] Episode 11 finished after 1920 game steps. Outcome: [1], reward: [0], score: [0]\n",
      "I1211 16:13:02.587233 140459533813568 sc2_env.py:507] Starting episode 12: [terran] on CollectMineralShards\n",
      "I1211 16:13:03.873968 140459533813568 sc2_env.py:725] Episode 12 finished after 1920 game steps. Outcome: [1], reward: [0], score: [0]\n",
      "I1211 16:13:03.903822 140459533813568 sc2_env.py:507] Starting episode 13: [terran] on CollectMineralShards\n",
      "I1211 16:13:05.154455 140459533813568 sc2_env.py:725] Episode 13 finished after 1920 game steps. Outcome: [1], reward: [0], score: [0]\n",
      "I1211 16:13:05.183825 140459533813568 sc2_env.py:507] Starting episode 14: [terran] on CollectMineralShards\n",
      "I1211 16:13:06.498524 140459533813568 sc2_env.py:725] Episode 14 finished after 1920 game steps. Outcome: [1], reward: [0], score: [0]\n",
      "I1211 16:13:06.527328 140459533813568 sc2_env.py:507] Starting episode 15: [terran] on CollectMineralShards\n",
      "I1211 16:13:07.784600 140459533813568 sc2_env.py:725] Episode 15 finished after 1920 game steps. Outcome: [1], reward: [0], score: [0]\n",
      "I1211 16:13:07.813590 140459533813568 sc2_env.py:507] Starting episode 16: [terran] on CollectMineralShards\n",
      "I1211 16:13:09.102763 140459533813568 sc2_env.py:725] Episode 16 finished after 1920 game steps. Outcome: [1], reward: [0], score: [0]\n",
      "I1211 16:13:09.131823 140459533813568 sc2_env.py:507] Starting episode 17: [terran] on CollectMineralShards\n",
      "I1211 16:13:10.519450 140459533813568 sc2_env.py:725] Episode 17 finished after 1920 game steps. Outcome: [1], reward: [0], score: [0]\n",
      "I1211 16:13:10.548837 140459533813568 sc2_env.py:507] Starting episode 18: [terran] on CollectMineralShards\n",
      "I1211 16:13:11.888552 140459533813568 sc2_env.py:725] Episode 18 finished after 1920 game steps. Outcome: [1], reward: [0], score: [0]\n",
      "I1211 16:13:11.919523 140459533813568 sc2_env.py:507] Starting episode 19: [terran] on CollectMineralShards\n",
      "I1211 16:13:13.287151 140459533813568 sc2_env.py:725] Episode 19 finished after 1920 game steps. Outcome: [1], reward: [0], score: [0]\n",
      "I1211 16:13:13.321780 140459533813568 sc2_env.py:507] Starting episode 20: [terran] on CollectMineralShards\n",
      "I1211 16:13:14.722792 140459533813568 sc2_env.py:725] Episode 20 finished after 1920 game steps. Outcome: [1], reward: [0], score: [0]\n",
      "I1211 16:13:14.753676 140459533813568 sc2_env.py:507] Starting episode 21: [terran] on CollectMineralShards\n",
      "I1211 16:13:16.092504 140459533813568 sc2_env.py:725] Episode 21 finished after 1920 game steps. Outcome: [1], reward: [0], score: [0]\n",
      "I1211 16:13:16.123045 140459533813568 sc2_env.py:507] Starting episode 22: [terran] on CollectMineralShards\n",
      "I1211 16:13:17.471197 140459533813568 sc2_env.py:725] Episode 22 finished after 1920 game steps. Outcome: [1], reward: [0], score: [1]\n",
      "I1211 16:13:17.501393 140459533813568 sc2_env.py:507] Starting episode 23: [terran] on CollectMineralShards\n",
      "I1211 16:13:18.853051 140459533813568 sc2_env.py:725] Episode 23 finished after 1920 game steps. Outcome: [1], reward: [0], score: [0]\n",
      "I1211 16:13:18.882144 140459533813568 sc2_env.py:507] Starting episode 24: [terran] on CollectMineralShards\n",
      "I1211 16:13:20.231801 140459533813568 sc2_env.py:725] Episode 24 finished after 1920 game steps. Outcome: [1], reward: [0], score: [0]\n",
      "I1211 16:13:20.263577 140459533813568 sc2_env.py:507] Starting episode 25: [terran] on CollectMineralShards\n",
      "I1211 16:13:21.801076 140459533813568 sc2_env.py:725] Episode 25 finished after 1920 game steps. Outcome: [1], reward: [0], score: [0]\n",
      "I1211 16:13:21.841089 140459533813568 sc2_env.py:507] Starting episode 26: [terran] on CollectMineralShards\n",
      "I1211 16:13:23.433083 140459533813568 sc2_env.py:725] Episode 26 finished after 1920 game steps. Outcome: [1], reward: [0], score: [0]\n",
      "I1211 16:13:23.462856 140459533813568 sc2_env.py:507] Starting episode 27: [terran] on CollectMineralShards\n",
      "I1211 16:13:24.889299 140459533813568 sc2_env.py:725] Episode 27 finished after 1920 game steps. Outcome: [1], reward: [0], score: [0]\n",
      "I1211 16:13:24.921820 140459533813568 sc2_env.py:507] Starting episode 28: [terran] on CollectMineralShards\n",
      "I1211 16:13:26.357907 140459533813568 sc2_env.py:725] Episode 28 finished after 1920 game steps. Outcome: [1], reward: [0], score: [0]\n",
      "I1211 16:13:26.386915 140459533813568 sc2_env.py:507] Starting episode 29: [terran] on CollectMineralShards\n",
      "I1211 16:13:27.810492 140459533813568 sc2_env.py:725] Episode 29 finished after 1920 game steps. Outcome: [1], reward: [0], score: [0]\n",
      "I1211 16:13:27.840364 140459533813568 sc2_env.py:507] Starting episode 30: [terran] on CollectMineralShards\n",
      "I1211 16:13:29.198343 140459533813568 sc2_env.py:725] Episode 30 finished after 1920 game steps. Outcome: [1], reward: [0], score: [0]\n",
      "I1211 16:13:29.228678 140459533813568 sc2_env.py:507] Starting episode 31: [terran] on CollectMineralShards\n",
      "I1211 16:13:30.569936 140459533813568 sc2_env.py:725] Episode 31 finished after 1920 game steps. Outcome: [1], reward: [0], score: [0]\n",
      "I1211 16:13:30.599143 140459533813568 sc2_env.py:507] Starting episode 32: [terran] on CollectMineralShards\n",
      "I1211 16:13:31.991783 140459533813568 sc2_env.py:725] Episode 32 finished after 1920 game steps. Outcome: [1], reward: [0], score: [0]\n",
      "I1211 16:13:32.021607 140459533813568 sc2_env.py:507] Starting episode 33: [terran] on CollectMineralShards\n",
      "I1211 16:13:32.283428 140459533813568 sc2_env.py:752] Environment Close\n"
     ]
    },
    {
     "name": "stderr",
     "output_type": "stream",
     "text": [
      "I1211 16:13:32.320437 140459533813568 sc_process.py:232] Shutdown gracefully.\n",
      "I1211 16:13:32.321668 140459533813568 sc_process.py:210] Shutdown with return code: -2\n",
      "I1211 16:13:32.325774 140459533813568 sc_process.py:135] Launching SC2: /home/nsml/StarCraftII/Versions/Base59877/SC2_x64 -listen 127.0.0.1 -port 20273 -dataDir /home/nsml/StarCraftII/ -tempDir /tmp/sc-o3ji8dja/\n",
      "I1211 16:13:32.339854 140459533813568 remote_controller.py:167] Connecting to: ws://127.0.0.1:20273/sc2api, attempt: 0, running: True\n"
     ]
    },
    {
     "name": "stdout",
     "output_type": "stream",
     "text": [
      "Took 43.867 seconds for 7515 steps: 171.314 fps\n",
      "CollectMineralShards\n"
     ]
    },
    {
     "name": "stderr",
     "output_type": "stream",
     "text": [
      "I1211 16:13:33.345282 140459533813568 remote_controller.py:167] Connecting to: ws://127.0.0.1:20273/sc2api, attempt: 1, running: True\n",
      "I1211 16:13:34.355322 140459533813568 remote_controller.py:167] Connecting to: ws://127.0.0.1:20273/sc2api, attempt: 2, running: True\n",
      "I1211 16:13:35.371760 140459533813568 remote_controller.py:167] Connecting to: ws://127.0.0.1:20273/sc2api, attempt: 3, running: True\n",
      "I1211 16:13:42.050522 140459533813568 sc2_env.py:314] Environment is ready\n",
      "I1211 16:13:42.051589 140459533813568 sc2_env.py:752] Environment Close\n",
      "I1211 16:13:42.053149 140459533813568 sc2_env.py:507] Starting episode 1: [terran] on CollectMineralShards\n",
      "I1211 16:13:42.088284 140459533813568 sc2_env.py:507] Starting episode 2: [terran] on CollectMineralShards\n",
      "I1211 16:13:43.600623 140459533813568 sc2_env.py:725] Episode 2 finished after 1920 game steps. Outcome: [1], reward: [0], score: [0]\n",
      "I1211 16:13:43.632581 140459533813568 sc2_env.py:507] Starting episode 3: [terran] on CollectMineralShards\n",
      "I1211 16:13:45.190882 140459533813568 sc2_env.py:725] Episode 3 finished after 1920 game steps. Outcome: [1], reward: [0], score: [0]\n",
      "I1211 16:13:45.230801 140459533813568 sc2_env.py:507] Starting episode 4: [terran] on CollectMineralShards\n",
      "I1211 16:13:46.708464 140459533813568 sc2_env.py:725] Episode 4 finished after 1920 game steps. Outcome: [1], reward: [0], score: [0]\n",
      "I1211 16:13:46.738582 140459533813568 sc2_env.py:507] Starting episode 5: [terran] on CollectMineralShards\n",
      "I1211 16:13:47.850478 140459533813568 sc2_env.py:752] Environment Close\n",
      "I1211 16:13:47.884740 140459533813568 sc_process.py:232] Shutdown gracefully.\n",
      "I1211 16:13:47.885468 140459533813568 sc_process.py:210] Shutdown with return code: -2\n",
      "I1211 16:13:47.890228 140459533813568 sc_process.py:135] Launching SC2: /home/nsml/StarCraftII/Versions/Base59877/SC2_x64 -listen 127.0.0.1 -port 16127 -dataDir /home/nsml/StarCraftII/ -tempDir /tmp/sc-abg17ye2/\n",
      "I1211 16:13:47.903055 140459533813568 remote_controller.py:167] Connecting to: ws://127.0.0.1:16127/sc2api, attempt: 0, running: True\n"
     ]
    },
    {
     "name": "stdout",
     "output_type": "stream",
     "text": [
      "Took 5.790 seconds for 908 steps: 156.829 fps\n",
      "CollectMineralShards\n"
     ]
    },
    {
     "name": "stderr",
     "output_type": "stream",
     "text": [
      "I1211 16:13:48.907790 140459533813568 remote_controller.py:167] Connecting to: ws://127.0.0.1:16127/sc2api, attempt: 1, running: True\n",
      "I1211 16:13:50.008306 140459533813568 remote_controller.py:167] Connecting to: ws://127.0.0.1:16127/sc2api, attempt: 2, running: True\n",
      "I1211 16:13:51.017104 140459533813568 remote_controller.py:167] Connecting to: ws://127.0.0.1:16127/sc2api, attempt: 3, running: True\n"
     ]
    },
    {
     "ename": "SystemExit",
     "evalue": "",
     "output_type": "error",
     "traceback": [
      "An exception has occurred, use %tb to see the full traceback.\n",
      "\u001b[0;31mSystemExit\u001b[0m\n"
     ]
    }
   ],
   "source": [
    "def main(unused_argv):\n",
    "    \n",
    "    agent = A3CAgent()\n",
    "    \n",
    "    try:\n",
    "        while True:\n",
    "            FLAGS.map = \"CollectMineralShards\"\n",
    "            print(FLAGS.map)\n",
    "            \n",
    "            with sc2_env.SC2Env(\n",
    "                map_name=FLAGS.map,\n",
    "                players=[sc2_env.Agent(sc2_env.Race.terran)],\n",
    "                agent_interface_format=sc2_env.parse_agent_interface_format(\n",
    "                  feature_screen=FLAGS.feature_screen_size,\n",
    "                  feature_minimap=FLAGS.feature_minimap_size,\n",
    "                  rgb_screen=FLAGS.rgb_screen_size,\n",
    "                  rgb_minimap=FLAGS.rgb_minimap_size,\n",
    "                  action_space=FLAGS.action_space,\n",
    "                  use_feature_units=FLAGS.use_feature_units),\n",
    "                step_mul=FLAGS.step_mul,\n",
    "                game_steps_per_episode=FLAGS.game_steps_per_episode,\n",
    "                disable_fog=FLAGS.disable_fog,\n",
    "                visualize=FLAGS.render) as env:\n",
    "\n",
    "                    agent.setup(env.observation_spec(), env.action_spec())\n",
    "\n",
    "                    timesteps = env.reset()\n",
    "                    agent.reset()\n",
    "\n",
    "                    run_loop.run_loop([agent], env, FLAGS.max_agent_steps, FLAGS.max_episodes)\n",
    "\n",
    "    except KeyboardInterrupt:\n",
    "        pass\n",
    "\n",
    "if __name__ == \"__main__\":\n",
    "    app.run(main)"
   ]
  },
  {
   "cell_type": "code",
   "execution_count": null,
   "metadata": {},
   "outputs": [],
   "source": []
  }
 ],
 "metadata": {
  "kernelspec": {
   "display_name": "Python 3",
   "language": "python",
   "name": "python3"
  },
  "language_info": {
   "codemirror_mode": {
    "name": "ipython",
    "version": 3
   },
   "file_extension": ".py",
   "mimetype": "text/x-python",
   "name": "python",
   "nbconvert_exporter": "python",
   "pygments_lexer": "ipython3",
   "version": "3.6.8"
  }
 },
 "nbformat": 4,
 "nbformat_minor": 2
}
